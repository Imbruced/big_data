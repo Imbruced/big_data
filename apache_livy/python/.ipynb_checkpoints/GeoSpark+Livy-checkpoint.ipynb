{
 "cells": [
  {
   "cell_type": "code",
   "execution_count": 91,
   "metadata": {},
   "outputs": [],
   "source": [
    "import json\n",
    "import pprint\n",
    "import requests\n",
    "from IPython import display\n",
    "import attr\n",
    "import urllib.parse"
   ]
  },
  {
   "cell_type": "markdown",
   "metadata": {},
   "source": [
    "## Setup Livy session"
   ]
  },
  {
   "cell_type": "code",
   "execution_count": 80,
   "metadata": {},
   "outputs": [
    {
     "data": {
      "text/plain": [
       "{'id': 5,\n",
       " 'appId': None,\n",
       " 'owner': None,\n",
       " 'proxyUser': None,\n",
       " 'state': 'starting',\n",
       " 'kind': 'spark',\n",
       " 'appInfo': {'driverLogUrl': None, 'sparkUiUrl': None},\n",
       " 'log': ['stdout: ', '\\nstderr: ']}"
      ]
     },
     "execution_count": 80,
     "metadata": {},
     "output_type": "execute_result"
    }
   ],
   "source": [
    "host = 'http://localhost:8998'\n",
    "data = {'kind': 'spark'}\n",
    "headers = {'Content-Type': 'application/json'}\n",
    "r = requests.post(host + '/sessions', data=json.dumps(data), headers=headers)\n",
    "\n",
    "r.json()"
   ]
  },
  {
   "cell_type": "code",
   "execution_count": 20,
   "metadata": {},
   "outputs": [
    {
     "data": {
      "text/html": [
       "<iframe src=\"http://localhost:8998\" width=610px height=320px> </iframe>"
      ],
      "text/plain": [
       "<IPython.core.display.HTML object>"
      ]
     },
     "execution_count": 20,
     "metadata": {},
     "output_type": "execute_result"
    }
   ],
   "source": [
    "display.HTML(f'''<iframe src=\"{host}\" width=610px height=320px> </iframe>''')"
   ]
  },
  {
   "cell_type": "markdown",
   "metadata": {},
   "source": [
    "## Configure GeoSpark Environment"
   ]
  },
  {
   "cell_type": "markdown",
   "metadata": {},
   "source": [
    "GeoSpark Jars were copied into <b> $SPARK_HOME/jars directory </b>\n",
    "\n",
    "After that we can get Livy <b> session id </b> from response headers. In our case id is 0."
   ]
  },
  {
   "cell_type": "markdown",
   "metadata": {},
   "source": [
    "## sending example code "
   ]
  },
  {
   "cell_type": "code",
   "execution_count": 29,
   "metadata": {},
   "outputs": [],
   "source": [
    "session_url = host + r.headers[\"Location\"]\n",
    "statements_url = session_url + '/statements'"
   ]
  },
  {
   "cell_type": "code",
   "execution_count": 30,
   "metadata": {},
   "outputs": [
    {
     "data": {
      "text/plain": [
       "{'id': 0, 'code': '1 + 1', 'state': 'waiting', 'output': None, 'progress': 0.0}"
      ]
     },
     "execution_count": 30,
     "metadata": {},
     "output_type": "execute_result"
    }
   ],
   "source": [
    "data = {'code': '1 + 1'}\n",
    "r = requests.post(statements_url, data=json.dumps(data), headers=headers)\n",
    "r.json()"
   ]
  },
  {
   "cell_type": "markdown",
   "metadata": {},
   "source": [
    "We can find result in statement 0 by sending proper get request."
   ]
  },
  {
   "cell_type": "code",
   "execution_count": 33,
   "metadata": {},
   "outputs": [
    {
     "name": "stdout",
     "output_type": "stream",
     "text": [
      "{'code': '1 + 1',\n",
      " 'id': 0,\n",
      " 'output': {'data': {'text/plain': 'res0: Int = 2\\n'},\n",
      "            'execution_count': 0,\n",
      "            'status': 'ok'},\n",
      " 'progress': 1.0,\n",
      " 'state': 'available'}\n"
     ]
    }
   ],
   "source": [
    "statement_url = host + r.headers['location']\n",
    "r = requests.get(statement_url, headers=headers)\n",
    "pprint.pprint(r.json())"
   ]
  },
  {
   "cell_type": "markdown",
   "metadata": {},
   "source": [
    "## Let's prepare spark context for GeoSpark development"
   ]
  },
  {
   "cell_type": "code",
   "execution_count": 72,
   "metadata": {},
   "outputs": [],
   "source": [
    "import logging\n",
    "from importlib import reload\n",
    "reload(logging)\n",
    "log_format = \"%(levelname)s %(asctime)-15s %(message)s\"\n",
    "logging.basicConfig(format=log_format, level=\"INFO\")"
   ]
  },
  {
   "cell_type": "code",
   "execution_count": 73,
   "metadata": {},
   "outputs": [],
   "source": [
    "logger = logging.getLogger()"
   ]
  },
  {
   "cell_type": "code",
   "execution_count": 116,
   "metadata": {},
   "outputs": [],
   "source": [
    "class SessionNotExistError(Exception):\n",
    "    pass\n",
    "\n",
    "@attr.s\n",
    "class LivySession:\n",
    "    \n",
    "    livy_session_ids = []\n",
    "    host = attr.ib()\n",
    "    is_running = attr.ib(default=False)\n",
    "    session_id = attr.ib(default=None, validator=[attr.validators.instance_of(int)])\n",
    "    \n",
    "    def kill(self):\n",
    "        pass\n",
    "    \n",
    "    def __attrs_post_init__(self):\n",
    "        self.session_url = urllib.parse.urljoin(self.host, str(self.session_id))\n",
    "    \n",
    "    @classmethod\n",
    "    def create_new(cls, host, data, headers):\n",
    "        response = requests.post(host + '/sessions',\n",
    "                                 data=json.dumps(data),\n",
    "                                  headers=headers)\n",
    "        if response.status_code == 201:\n",
    "            sesion_id = response.json()[\"id\"]\n",
    "            cls.livy_session_ids.append(sesion_id)\n",
    "            return cls(host, True, sesion_id)\n",
    "        else:\n",
    "            logger.info(f\"Current code is {response.status_code}\")\n",
    "            raise ConnectionError(\"Response does not return code 200\")\n",
    "            \n",
    "            \n",
    "    @classmethod\n",
    "    def from_existing(cls, host, session_id):\n",
    "        if session_id not in cls.livy_session_ids:\n",
    "            raise SessionNotExistError(\"This session id does not exists\")\n",
    "        \n",
    "        return cls(host, True, session_id)"
   ]
  },
  {
   "cell_type": "code",
   "execution_count": 140,
   "metadata": {},
   "outputs": [],
   "source": [
    "@attr.s\n",
    "class LivyStatement:\n",
    "    \n",
    "    \n",
    "    livy_session: LivySession = attr.ib()\n",
    "    is_send = attr.ib(default=False, init=False)\n",
    "    statement_id = attr.ib(default=None, init=False)\n",
    "    \n",
    "    def __attrs_post_init__(self):\n",
    "        self.statements_url = self.livy_session.session_url + '/statements'\n",
    "        \n",
    "    def get_status(self):\n",
    "        \n",
    "        r = requests.get(statement_url, headers=headers)\n",
    "        \n",
    "        if r.status_code != 200:\n",
    "            logger.error(\"Response code is not equal to 200\")\n",
    "            raise ConnectionError(\"Request returned code: {r.status_code}\")\n",
    "        pprint.pprint(r.json())  \n",
    "\n",
    "    def send_from_text(self, code):\n",
    "        data = {'code': code}\n",
    "        if not self.is_send:\n",
    "            self.is_send = True\n",
    "            self.statement_id = self.send_code(data, headers)\n",
    "            self.statement_url = urllib.parse.urljoin(self.statements_url,\n",
    "                                                      str(self.statement_id ))\n",
    "        else: \n",
    "            logger.info(\"This statement was sent\")\n",
    "            \n",
    "    def send_from_file(self, code):\n",
    "        \"\"\"TODO add from file\"\"\"\n",
    "    \n",
    "    @staticmethod\n",
    "    def send_code(data, headers = {'Content-Type': 'application/json'}):\n",
    "        response = requests.post(statements_url,\n",
    "                                 data=json.dumps(data),\n",
    "                                 headers=headers)\n",
    "        \n",
    "        if response.status_code != 201:\n",
    "            logger.error(f\"Returned code {response.status_code}\")\n",
    "            raise ConnectionError(\"Connection is failed\")\n",
    "        \n",
    "        return r.json()[\"id\"]\n"
   ]
  },
  {
   "cell_type": "code",
   "execution_count": 110,
   "metadata": {},
   "outputs": [],
   "source": [
    "livy_session = LivySession.create_new(host,\n",
    "                                      data = {'kind': 'spark'},\n",
    "                                      headers={'Content-Type': 'application/json'})"
   ]
  },
  {
   "cell_type": "code",
   "execution_count": 111,
   "metadata": {},
   "outputs": [
    {
     "data": {
      "text/plain": [
       "LivySession(host='http://localhost:8998', is_running=True, session_id=0)"
      ]
     },
     "execution_count": 111,
     "metadata": {},
     "output_type": "execute_result"
    }
   ],
   "source": [
    "livy_session"
   ]
  },
  {
   "cell_type": "code",
   "execution_count": null,
   "metadata": {},
   "outputs": [],
   "source": [
    "livy_statement = LivyStatement(livy_session)"
   ]
  },
  {
   "cell_type": "code",
   "execution_count": 146,
   "metadata": {},
   "outputs": [
    {
     "data": {
      "text/plain": [
       "LivyStatement(livy_session=LivySession(host='http://localhost:8998', is_running=True, session_id=0), is_send=True, statement_id=5)"
      ]
     },
     "execution_count": 146,
     "metadata": {},
     "output_type": "execute_result"
    }
   ],
   "source": [
    "livy_statement"
   ]
  },
  {
   "cell_type": "code",
   "execution_count": 144,
   "metadata": {},
   "outputs": [
    {
     "name": "stderr",
     "output_type": "stream",
     "text": [
      "INFO 2019-03-24 19:37:55,370 This statement was sent\n"
     ]
    }
   ],
   "source": [
    "livy_statement.send_from_text(\"println(1)\")"
   ]
  },
  {
   "cell_type": "code",
   "execution_count": 145,
   "metadata": {},
   "outputs": [
    {
     "name": "stdout",
     "output_type": "stream",
     "text": [
      "{'code': 'println(1)',\n",
      " 'id': 0,\n",
      " 'output': {'data': {'text/plain': '1\\n'},\n",
      "            'execution_count': 0,\n",
      "            'status': 'ok'},\n",
      " 'progress': 1.0,\n",
      " 'state': 'available'}\n"
     ]
    }
   ],
   "source": [
    "livy_statement.get_status()"
   ]
  },
  {
   "cell_type": "code",
   "execution_count": null,
   "metadata": {},
   "outputs": [],
   "source": []
  },
  {
   "cell_type": "code",
   "execution_count": null,
   "metadata": {},
   "outputs": [],
   "source": []
  },
  {
   "cell_type": "code",
   "execution_count": null,
   "metadata": {},
   "outputs": [],
   "source": []
  },
  {
   "cell_type": "code",
   "execution_count": null,
   "metadata": {},
   "outputs": [],
   "source": []
  },
  {
   "cell_type": "code",
   "execution_count": null,
   "metadata": {},
   "outputs": [],
   "source": []
  },
  {
   "cell_type": "code",
   "execution_count": null,
   "metadata": {},
   "outputs": [],
   "source": []
  },
  {
   "cell_type": "code",
   "execution_count": null,
   "metadata": {},
   "outputs": [],
   "source": []
  },
  {
   "cell_type": "code",
   "execution_count": null,
   "metadata": {},
   "outputs": [],
   "source": []
  },
  {
   "cell_type": "code",
   "execution_count": 21,
   "metadata": {},
   "outputs": [
    {
     "data": {
      "text/plain": [
       "{'Date': 'Sun, 24 Mar 2019 17:00:06 GMT', 'Content-Type': 'application/json', 'Content-Encoding': 'gzip', 'Location': '/sessions/0', 'Transfer-Encoding': 'chunked', 'Server': 'Jetty(9.2.16.v20160414)'}"
      ]
     },
     "execution_count": 21,
     "metadata": {},
     "output_type": "execute_result"
    }
   ],
   "source": []
  },
  {
   "cell_type": "code",
   "execution_count": null,
   "metadata": {},
   "outputs": [],
   "source": []
  }
 ],
 "metadata": {
  "kernelspec": {
   "display_name": "Python 3",
   "language": "python",
   "name": "python3"
  },
  "language_info": {
   "codemirror_mode": {
    "name": "ipython",
    "version": 3
   },
   "file_extension": ".py",
   "mimetype": "text/x-python",
   "name": "python",
   "nbconvert_exporter": "python",
   "pygments_lexer": "ipython3",
   "version": "3.6.6"
  }
 },
 "nbformat": 4,
 "nbformat_minor": 2
}
