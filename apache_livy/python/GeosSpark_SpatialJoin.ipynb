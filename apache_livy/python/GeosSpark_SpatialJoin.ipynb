{
 "cells": [
  {
   "cell_type": "code",
   "execution_count": 2,
   "metadata": {},
   "outputs": [],
   "source": [
    "sc.stop()"
   ]
  },
  {
   "cell_type": "code",
   "execution_count": 16,
   "metadata": {},
   "outputs": [],
   "source": [
    "import org.apache.spark.SparkContext\n",
    "import org.apache.spark.SparkConf\n",
    "import org.datasyslab.geospark.serde._\n",
    "import org.apache.spark.serializer.KryoSerializer\n",
    "import org.datasyslab.geospark.spatialRDD.SpatialRDD\n",
    "import org.datasyslab.geospark.spatialRDD._\n",
    "import org.datasyslab.geospark.spatialOperator._\n",
    "import com.vividsolutions.jts.geom._\n",
    "import org.datasyslab.geospark.enums._\n",
    "import org.datasyslab.geospark.enums.IndexType._\n",
    "import scala.util.parsing.json._\n",
    "import org.datasyslab.geospark.enums.FileDataSplitter.WKT\n",
    "import org.apache.spark.sql.functions"
   ]
  },
  {
   "cell_type": "code",
   "execution_count": 11,
   "metadata": {},
   "outputs": [
    {
     "data": {
      "text/plain": [
       "conf = org.apache.spark.SparkConf@2b82efe2\n",
       "sc = org.apache.spark.SparkContext@548b4b61\n"
      ]
     },
     "metadata": {},
     "output_type": "display_data"
    },
    {
     "data": {
      "text/plain": [
       "org.apache.spark.SparkContext@548b4b61"
      ]
     },
     "execution_count": 11,
     "metadata": {},
     "output_type": "execute_result"
    }
   ],
   "source": [
    "val conf = new SparkConf()\n",
    "conf.setAppName(\"GeoSparkRunnableExample\")\n",
    "conf.setMaster(\"local[*]\")\n",
    "conf.set(\"spark.serializer\", classOf[KryoSerializer].getName)\n",
    "conf.set(\"spark.kryo.registrator\", classOf[GeoSparkKryoRegistrator].getName)\n",
    "val sc = new SparkContext(conf)"
   ]
  },
  {
   "cell_type": "code",
   "execution_count": 14,
   "metadata": {},
   "outputs": [
    {
     "data": {
      "text/plain": [
       "sqlContext = org.apache.spark.sql.SQLContext@1d37bef\n"
      ]
     },
     "metadata": {},
     "output_type": "display_data"
    },
    {
     "data": {
      "text/plain": [
       "warning: there was one deprecation warning; re-run with -deprecation for details\n"
      ]
     },
     "metadata": {},
     "output_type": "display_data"
    },
    {
     "data": {
      "text/plain": [
       "org.apache.spark.sql.SQLContext@1d37bef"
      ]
     },
     "execution_count": 14,
     "metadata": {},
     "output_type": "execute_result"
    }
   ],
   "source": [
    "val sqlContext = new SQLContext(sc)"
   ]
  },
  {
   "cell_type": "markdown",
   "metadata": {},
   "source": [
    "## loading adm divisions"
   ]
  },
  {
   "cell_type": "code",
   "execution_count": 62,
   "metadata": {},
   "outputs": [
    {
     "data": {
      "text/plain": [
       "polygonRDDInputLocation = /home/pawel/Desktop/livy_project/files/gminy.csv\n",
       "polygonRDDStartOffset = 1\n",
       "polygonRDDEndOffset = 2\n",
       "polygonRDDSplitter = WKT\n",
       "carryOtherAttributes = true\n",
       "PolygonRDD = org.datasyslab.geospark.spatialRDD.PolygonRDD@3622b58c\n"
      ]
     },
     "metadata": {},
     "output_type": "display_data"
    },
    {
     "data": {
      "text/plain": [
       "org.datasyslab.geospark.spatialRDD.PolygonRDD@3622b58c"
      ]
     },
     "execution_count": 62,
     "metadata": {},
     "output_type": "execute_result"
    }
   ],
   "source": [
    "val polygonRDDInputLocation = \"/home/pawel/Desktop/livy_project/files/gminy.csv\"\n",
    "val polygonRDDStartOffset = 1\n",
    "val polygonRDDEndOffset = 2\n",
    "val polygonRDDSplitter = FileDataSplitter.WKT\n",
    "val carryOtherAttributes = true \n",
    "var PolygonRDD = new PolygonRDD(sc, polygonRDDInputLocation, polygonRDDStartOffset, polygonRDDEndOffset, polygonRDDSplitter, carryOtherAttributes)"
   ]
  },
  {
   "cell_type": "markdown",
   "metadata": {},
   "source": [
    "## loading pois "
   ]
  },
  {
   "cell_type": "code",
   "execution_count": 63,
   "metadata": {},
   "outputs": [
    {
     "data": {
      "text/plain": [
       "pointRDDInputLocation = /home/pawel/Desktop/livy_project/files/pois.csv\n",
       "pointRDDOffset = 2\n",
       "pointRDDSplitter = WKT\n",
       "carryOtherAttributes = true\n",
       "PointRDD = org.datasyslab.geospark.spatialRDD.PointRDD@14d05c0c\n"
      ]
     },
     "metadata": {},
     "output_type": "display_data"
    },
    {
     "data": {
      "text/plain": [
       "org.datasyslab.geospark.spatialRDD.PointRDD@14d05c0c"
      ]
     },
     "execution_count": 63,
     "metadata": {},
     "output_type": "execute_result"
    }
   ],
   "source": [
    "val pointRDDInputLocation = \"/home/pawel/Desktop/livy_project/files/pois.csv\"\n",
    "val pointRDDOffset = 2 // The point long/lat starts from Column 0\n",
    "val pointRDDSplitter = FileDataSplitter.WKT\n",
    "val carryOtherAttributes = true // Carry Column 2 (hotel, gas, bar...)\n",
    "var PointRDD = new PointRDD(sc, pointRDDInputLocation, pointRDDOffset, pointRDDSplitter, carryOtherAttributes)"
   ]
  },
  {
   "cell_type": "markdown",
   "metadata": {},
   "source": [
    "## transforming and indexing adm divisions"
   ]
  },
  {
   "cell_type": "code",
   "execution_count": 64,
   "metadata": {},
   "outputs": [
    {
     "data": {
      "text/plain": [
       "sourceCrsCode = epsg:4326\n",
       "targetCrsCode = epsg:4326\n"
      ]
     },
     "metadata": {},
     "output_type": "display_data"
    },
    {
     "data": {
      "text/plain": [
       "epsg:4326"
      ]
     },
     "execution_count": 64,
     "metadata": {},
     "output_type": "execute_result"
    }
   ],
   "source": [
    "val sourceCrsCode = \"epsg:4326\"\n",
    "val targetCrsCode = \"epsg:4326\"\n",
    "PolygonRDD.CRSTransform(sourceCrsCode, targetCrsCode)\n",
    "PolygonRDD.analyze()\n",
    "PolygonRDD.spatialPartitioning(GridType.KDBTREE)\n",
    "PolygonRDD.buildIndex(IndexType.RTREE, true)"
   ]
  },
  {
   "cell_type": "markdown",
   "metadata": {},
   "source": [
    "## transforming and indexing pois"
   ]
  },
  {
   "cell_type": "code",
   "execution_count": 65,
   "metadata": {},
   "outputs": [
    {
     "data": {
      "text/plain": [
       "sourceCrsCode = epsg:4326\n",
       "targetCrsCode = epsg:4326\n"
      ]
     },
     "metadata": {},
     "output_type": "display_data"
    },
    {
     "data": {
      "text/plain": [
       "epsg:4326"
      ]
     },
     "execution_count": 65,
     "metadata": {},
     "output_type": "execute_result"
    }
   ],
   "source": [
    "val sourceCrsCode = \"epsg:4326\"\n",
    "val targetCrsCode = \"epsg:4326\"\n",
    "PointRDD.CRSTransform(sourceCrsCode, targetCrsCode)\n",
    "PointRDD.spatialPartitioning(PolygonRDD.getPartitioner)\n",
    "PointRDD.buildIndex(IndexType.QUADTREE, true)\n"
   ]
  },
  {
   "cell_type": "markdown",
   "metadata": {},
   "source": [
    "## Spatial join"
   ]
  },
  {
   "cell_type": "code",
   "execution_count": 66,
   "metadata": {},
   "outputs": [
    {
     "data": {
      "text/plain": [
       "usingIndex = true\n",
       "considerBoundaryIntersection = true\n",
       "result = org.apache.spark.api.java.JavaPairRDD@37fc24e0\n"
      ]
     },
     "metadata": {},
     "output_type": "display_data"
    },
    {
     "data": {
      "text/plain": [
       "org.apache.spark.api.java.JavaPairRDD@37fc24e0"
      ]
     },
     "execution_count": 66,
     "metadata": {},
     "output_type": "execute_result"
    }
   ],
   "source": [
    "val usingIndex = true\n",
    "val considerBoundaryIntersection = true\n",
    "val result = JoinQuery.SpatialJoinQuery(PolygonRDD, PointRDD, usingIndex, considerBoundaryIntersection)"
   ]
  },
  {
   "cell_type": "code",
   "execution_count": null,
   "metadata": {},
   "outputs": [],
   "source": [
    "result.saveAsTextFile(\"/home/pawel/Desktop/livy_project/files/spatial_join_result\")"
   ]
  },
  {
   "cell_type": "code",
   "execution_count": null,
   "metadata": {},
   "outputs": [],
   "source": [
    "sqlContext.read.option(\"delimiter\", \"\\t\").csv(\"/home/pawel/Desktop/livy_project/files/spatial_join_result\").count()"
   ]
  },
  {
   "cell_type": "code",
   "execution_count": 61,
   "metadata": {},
   "outputs": [
    {
     "data": {
      "text/plain": [
       "warning: there was one deprecation warning; re-run with -deprecation for details\n"
      ]
     },
     "metadata": {},
     "output_type": "display_data"
    },
    {
     "data": {
      "text/plain": [
       "Env[47.673913943787745 : 47.67400202278866, 12.336282115712798 : 12.336364876391753]"
      ]
     },
     "execution_count": 61,
     "metadata": {},
     "output_type": "execute_result"
    }
   ],
   "source": [
    "PolygonRDD.boundary"
   ]
  },
  {
   "cell_type": "code",
   "execution_count": null,
   "metadata": {},
   "outputs": [],
   "source": [
    "PointRDD.boundary"
   ]
  }
 ],
 "metadata": {
  "kernelspec": {
   "display_name": "spark_2_3 - Scala",
   "language": "scala",
   "name": "spark_2_3_scala"
  },
  "language_info": {
   "codemirror_mode": "text/x-scala",
   "file_extension": ".scala",
   "mimetype": "text/x-scala",
   "name": "scala",
   "pygments_lexer": "scala",
   "version": "2.11.12"
  }
 },
 "nbformat": 4,
 "nbformat_minor": 2
}
